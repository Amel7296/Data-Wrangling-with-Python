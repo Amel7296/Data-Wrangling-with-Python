{
 "cells": [
  {
   "cell_type": "markdown",
   "metadata": {},
   "source": [
    "### Exercise 1: Import SQLite and connect to a database and close it properly"
   ]
  },
  {
   "cell_type": "code",
   "execution_count": 141,
   "metadata": {},
   "outputs": [],
   "source": [
    "import sqlite3"
   ]
  },
  {
   "cell_type": "code",
   "execution_count": 142,
   "metadata": {},
   "outputs": [],
   "source": [
    "conn = sqlite3.connect(\"lesson.db\")"
   ]
  },
  {
   "cell_type": "code",
   "execution_count": 143,
   "metadata": {},
   "outputs": [],
   "source": [
    "conn.close()"
   ]
  },
  {
   "cell_type": "code",
   "execution_count": 144,
   "metadata": {},
   "outputs": [],
   "source": [
    "# Better approach\n",
    "with sqlite3.connect(\"lesson.db\") as conn:\n",
    "    pass"
   ]
  },
  {
   "cell_type": "markdown",
   "metadata": {},
   "source": [
    "### Exercise 2: Create a user table and insert a row in it"
   ]
  },
  {
   "cell_type": "code",
   "execution_count": 145,
   "metadata": {},
   "outputs": [],
   "source": [
    "with sqlite3.connect(\"lesson.db\") as conn:\n",
    "    cursor = conn.cursor()\n",
    "    cursor.execute(\"CREATE TABLE IF NOT EXISTS user (email text, first_name text, last_name text, address text, age integer, PRIMARY KEY (email))\")\n",
    "    cursor.execute(\"INSERT INTO user VALUES ('bob@example.com', 'Bob', 'Codd', '123 Fantasy lane, Fantasu City', 31)\")\n",
    "    conn.commit()"
   ]
  },
  {
   "cell_type": "markdown",
   "metadata": {},
   "source": [
    "### Exercise 3: Check the first row and get the value."
   ]
  },
  {
   "cell_type": "code",
   "execution_count": 146,
   "metadata": {},
   "outputs": [
    {
     "name": "stdout",
     "output_type": "stream",
     "text": [
      "('bob@example.com', 'Bob', 'Codd', '123 Fantasy lane, Fantasu City', 31)\n"
     ]
    }
   ],
   "source": [
    "with sqlite3.connect(\"lesson.db\") as conn:\n",
    "    cursor = conn.cursor()\n",
    "    rows = cursor.execute('SELECT * FROM user')\n",
    "    for row in rows:\n",
    "        print(row)"
   ]
  },
  {
   "cell_type": "markdown",
   "metadata": {},
   "source": [
    "### Exercise 4: Insert one more record and then select them with a order by clause"
   ]
  },
  {
   "cell_type": "code",
   "execution_count": 147,
   "metadata": {},
   "outputs": [],
   "source": [
    "with sqlite3.connect(\"lesson.db\") as conn:\n",
    "    cursor = conn.cursor()\n",
    "    cursor.execute(\"INSERT INTO user VALUES ('tom@web.com', 'Tom', 'Fake', '456 Fantasy lane, Fantasu City', 39)\")\n",
    "    conn.commit()"
   ]
  },
  {
   "cell_type": "code",
   "execution_count": 148,
   "metadata": {},
   "outputs": [
    {
     "name": "stdout",
     "output_type": "stream",
     "text": [
      "('tom@web.com', 'Tom', 'Fake', '456 Fantasy lane, Fantasu City', 39)\n",
      "('bob@example.com', 'Bob', 'Codd', '123 Fantasy lane, Fantasu City', 31)\n"
     ]
    }
   ],
   "source": [
    "with sqlite3.connect(\"lesson.db\") as conn:\n",
    "    cursor = conn.cursor()\n",
    "    rows = cursor.execute('SELECT * FROM user ORDER BY age DESC')\n",
    "    for row in rows:\n",
    "        print(row)"
   ]
  },
  {
   "cell_type": "code",
   "execution_count": 149,
   "metadata": {},
   "outputs": [
    {
     "name": "stdout",
     "output_type": "stream",
     "text": [
      "('bob@example.com', 'Bob', 'Codd', '123 Fantasy lane, Fantasu City', 31)\n",
      "('tom@web.com', 'Tom', 'Fake', '456 Fantasy lane, Fantasu City', 39)\n"
     ]
    }
   ],
   "source": [
    "with sqlite3.connect(\"lesson.db\") as conn:\n",
    "    cursor = conn.cursor()\n",
    "    rows = cursor.execute('SELECT * FROM user ORDER BY age')\n",
    "    for row in rows:\n",
    "        print(row)"
   ]
  },
  {
   "cell_type": "markdown",
   "metadata": {},
   "source": [
    "### Exercise 5: Alter the table and add another column"
   ]
  },
  {
   "cell_type": "code",
   "execution_count": 150,
   "metadata": {},
   "outputs": [],
   "source": [
    "with sqlite3.connect(\"lesson.db\") as conn:\n",
    "    cursor = conn.cursor()\n",
    "    cursor.execute(\"ALTER TABLE user ADD COLUMN gender text\")"
   ]
  },
  {
   "cell_type": "code",
   "execution_count": 151,
   "metadata": {},
   "outputs": [
    {
     "name": "stdout",
     "output_type": "stream",
     "text": [
      "('bob@example.com', 'Bob', 'Codd', '123 Fantasy lane, Fantasu City', 31, None)\n",
      "('tom@web.com', 'Tom', 'Fake', '456 Fantasy lane, Fantasu City', 39, None)\n"
     ]
    }
   ],
   "source": [
    "with sqlite3.connect(\"lesson.db\") as conn:\n",
    "    cursor = conn.cursor()\n",
    "    rows = cursor.execute('SELECT * FROM user ORDER BY age')\n",
    "    for row in rows:\n",
    "        print(row)"
   ]
  },
  {
   "cell_type": "markdown",
   "metadata": {},
   "source": [
    "### Exercise 6: Create another tabble and relate it with User table"
   ]
  },
  {
   "cell_type": "code",
   "execution_count": 152,
   "metadata": {},
   "outputs": [],
   "source": [
    "with sqlite3.connect(\"lesson.db\") as conn:\n",
    "    cursor = conn.cursor()\n",
    "    cursor.execute(\"PRAGMA foreign_keys = 1\")\n",
    "    sql = \"\"\"\n",
    "        CREATE TABLE comments (\n",
    "            user_id text,\n",
    "            comments text,\n",
    "            FOREIGN KEY (user_id) REFERENCES user (email) \n",
    "            ON DELETE CASCADE ON UPDATE NO ACTION\n",
    "        )\n",
    "    \"\"\"\n",
    "    cursor.execute(sql)"
   ]
  },
  {
   "cell_type": "markdown",
   "metadata": {},
   "source": [
    "### Exercise 7: Populating the comments table"
   ]
  },
  {
   "cell_type": "code",
   "execution_count": 153,
   "metadata": {},
   "outputs": [
    {
     "name": "stdout",
     "output_type": "stream",
     "text": [
      "Going to create rows for bob@example.com\n",
      "Going to create rows for tom@web.com\n"
     ]
    }
   ],
   "source": [
    "with sqlite3.connect(\"lesson.db\") as conn:\n",
    "    cursor = conn.cursor()\n",
    "    cursor.execute(\"PRAGMA foreign_keys = 1\")\n",
    "    sql = \"INSERT INTO comments VALUES ('{}', '{}')\"\n",
    "    rows = cursor.execute('SELECT * FROM user ORDER BY age')\n",
    "    for row in rows:\n",
    "        email = row[0]\n",
    "        print(\"Going to create rows for {}\".format(email))\n",
    "        name = row[1] + \" \" + row[2]\n",
    "        for i in range(10):\n",
    "            comment = \"This is comment {} by {}\".format(i, name)\n",
    "            conn.cursor().execute(sql.format(email, comment))\n",
    "    conn.commit()"
   ]
  },
  {
   "cell_type": "markdown",
   "metadata": {},
   "source": [
    "### Exercise 8: Read comments by Bob"
   ]
  },
  {
   "cell_type": "code",
   "execution_count": 154,
   "metadata": {},
   "outputs": [
    {
     "name": "stdout",
     "output_type": "stream",
     "text": [
      "('bob@example.com', 'This is comment 0 by Bob Codd', 'bob@example.com', 'Bob', 'Codd', '123 Fantasy lane, Fantasu City', 31, None)\n",
      "('bob@example.com', 'This is comment 1 by Bob Codd', 'bob@example.com', 'Bob', 'Codd', '123 Fantasy lane, Fantasu City', 31, None)\n",
      "('bob@example.com', 'This is comment 2 by Bob Codd', 'bob@example.com', 'Bob', 'Codd', '123 Fantasy lane, Fantasu City', 31, None)\n",
      "('bob@example.com', 'This is comment 3 by Bob Codd', 'bob@example.com', 'Bob', 'Codd', '123 Fantasy lane, Fantasu City', 31, None)\n",
      "('bob@example.com', 'This is comment 4 by Bob Codd', 'bob@example.com', 'Bob', 'Codd', '123 Fantasy lane, Fantasu City', 31, None)\n",
      "('bob@example.com', 'This is comment 5 by Bob Codd', 'bob@example.com', 'Bob', 'Codd', '123 Fantasy lane, Fantasu City', 31, None)\n",
      "('bob@example.com', 'This is comment 6 by Bob Codd', 'bob@example.com', 'Bob', 'Codd', '123 Fantasy lane, Fantasu City', 31, None)\n",
      "('bob@example.com', 'This is comment 7 by Bob Codd', 'bob@example.com', 'Bob', 'Codd', '123 Fantasy lane, Fantasu City', 31, None)\n",
      "('bob@example.com', 'This is comment 8 by Bob Codd', 'bob@example.com', 'Bob', 'Codd', '123 Fantasy lane, Fantasu City', 31, None)\n",
      "('bob@example.com', 'This is comment 9 by Bob Codd', 'bob@example.com', 'Bob', 'Codd', '123 Fantasy lane, Fantasu City', 31, None)\n"
     ]
    }
   ],
   "source": [
    "with sqlite3.connect(\"lesson.db\") as conn:\n",
    "    cursor = conn.cursor()\n",
    "    cursor.execute(\"PRAGMA foreign_keys = 1\")\n",
    "    sql = \"\"\"\n",
    "        SELECT * FROM comments \n",
    "        JOIN user ON comments.user_id = user.email\n",
    "        WHERE user.email='bob@example.com'\n",
    "    \"\"\"\n",
    "    rows = cursor.execute(sql)\n",
    "    for row in rows:\n",
    "        print(row)"
   ]
  },
  {
   "cell_type": "markdown",
   "metadata": {},
   "source": [
    "### Exercise 9: Read selected columns only"
   ]
  },
  {
   "cell_type": "code",
   "execution_count": 155,
   "metadata": {},
   "outputs": [
    {
     "name": "stdout",
     "output_type": "stream",
     "text": [
      "('bob@example.com', 'This is comment 0 by Bob Codd')\n",
      "('bob@example.com', 'This is comment 1 by Bob Codd')\n",
      "('bob@example.com', 'This is comment 2 by Bob Codd')\n",
      "('bob@example.com', 'This is comment 3 by Bob Codd')\n",
      "('bob@example.com', 'This is comment 4 by Bob Codd')\n",
      "('bob@example.com', 'This is comment 5 by Bob Codd')\n",
      "('bob@example.com', 'This is comment 6 by Bob Codd')\n",
      "('bob@example.com', 'This is comment 7 by Bob Codd')\n",
      "('bob@example.com', 'This is comment 8 by Bob Codd')\n",
      "('bob@example.com', 'This is comment 9 by Bob Codd')\n"
     ]
    }
   ],
   "source": [
    "with sqlite3.connect(\"lesson.db\") as conn:\n",
    "    cursor = conn.cursor()\n",
    "    cursor.execute(\"PRAGMA foreign_keys = 1\")\n",
    "    sql = \"\"\"\n",
    "        SELECT comments.* FROM comments\n",
    "        JOIN user ON comments.user_id = user.email\n",
    "        WHERE user.email='bob@example.com'\n",
    "    \"\"\"\n",
    "    rows = cursor.execute(sql)\n",
    "    for row in rows:\n",
    "        print(row)"
   ]
  },
  {
   "cell_type": "markdown",
   "metadata": {},
   "source": [
    "### Exercise 10: Delete a row in user table and watch the consequences"
   ]
  },
  {
   "cell_type": "code",
   "execution_count": 156,
   "metadata": {},
   "outputs": [],
   "source": [
    "with sqlite3.connect(\"lesson.db\") as conn:\n",
    "    cursor = conn.cursor()\n",
    "    cursor.execute(\"PRAGMA foreign_keys = 1\")\n",
    "    cursor.execute(\"DELETE FROM user WHERE email='bob@example.com'\")\n",
    "    conn.commit()"
   ]
  },
  {
   "cell_type": "code",
   "execution_count": 157,
   "metadata": {},
   "outputs": [
    {
     "name": "stdout",
     "output_type": "stream",
     "text": [
      "('tom@web.com', 'Tom', 'Fake', '456 Fantasy lane, Fantasu City', 39, None)\n"
     ]
    }
   ],
   "source": [
    "with sqlite3.connect(\"lesson.db\") as conn:\n",
    "    cursor = conn.cursor()\n",
    "    cursor.execute(\"PRAGMA foreign_keys = 1\")\n",
    "    rows = cursor.execute(\"SELECT * FROM user\")\n",
    "    for row in rows:\n",
    "        print(row)"
   ]
  },
  {
   "cell_type": "code",
   "execution_count": 158,
   "metadata": {},
   "outputs": [
    {
     "name": "stdout",
     "output_type": "stream",
     "text": [
      "('tom@web.com', 'This is comment 0 by Tom Fake')\n",
      "('tom@web.com', 'This is comment 1 by Tom Fake')\n",
      "('tom@web.com', 'This is comment 2 by Tom Fake')\n",
      "('tom@web.com', 'This is comment 3 by Tom Fake')\n",
      "('tom@web.com', 'This is comment 4 by Tom Fake')\n",
      "('tom@web.com', 'This is comment 5 by Tom Fake')\n",
      "('tom@web.com', 'This is comment 6 by Tom Fake')\n",
      "('tom@web.com', 'This is comment 7 by Tom Fake')\n",
      "('tom@web.com', 'This is comment 8 by Tom Fake')\n",
      "('tom@web.com', 'This is comment 9 by Tom Fake')\n"
     ]
    }
   ],
   "source": [
    "with sqlite3.connect(\"lesson.db\") as conn:\n",
    "    cursor = conn.cursor()\n",
    "    cursor.execute(\"PRAGMA foreign_keys = 1\")\n",
    "    rows = cursor.execute(\"SELECT * FROM comments\")\n",
    "    for row in rows:\n",
    "        print(row)"
   ]
  },
  {
   "cell_type": "markdown",
   "metadata": {},
   "source": [
    "### Exercise 11: Update a row in User table"
   ]
  },
  {
   "cell_type": "code",
   "execution_count": 159,
   "metadata": {},
   "outputs": [
    {
     "name": "stdout",
     "output_type": "stream",
     "text": [
      "('M',)\n"
     ]
    }
   ],
   "source": [
    "with sqlite3.connect(\"lesson.db\") as conn:\n",
    "    cursor = conn.cursor()\n",
    "    cursor.execute(\"PRAGMA foreign_keys = 1\")\n",
    "    cursor.execute(\"UPDATE user set gender='M' where email='tom@web.com'\")\n",
    "    conn.commit()\n",
    "    rows = cursor.execute(\"SELECT gender FROM user WHERE email='tom@web.com'\")\n",
    "    for row in rows:\n",
    "        print(row)"
   ]
  },
  {
   "cell_type": "markdown",
   "metadata": {},
   "source": [
    "### Exercise 12: Creating a Data Frame from the result"
   ]
  },
  {
   "cell_type": "code",
   "execution_count": 163,
   "metadata": {},
   "outputs": [],
   "source": [
    "import pandas as pd\n",
    "\n",
    "columns = [\"Email\", \"First Name\", \"Last Name\", \"Age\", \"Gender\", \"Comments\"]\n",
    "data = []\n",
    "with sqlite3.connect(\"lesson.db\") as conn:\n",
    "    cursor = conn.cursor()\n",
    "    cursor.execute(\"PRAGMA foreign_keys = 1\")\n",
    "    \n",
    "    sql = \"\"\"\n",
    "        SELECT user.email, user.first_name, user.last_name, user.age, user.gender, comments.comments FROM comments\n",
    "        JOIN user ON comments.user_id = user.email\n",
    "        WHERE user.email = 'tom@web.com'\n",
    "    \"\"\"\n",
    "    rows = cursor.execute(sql)\n",
    "    for row in rows:\n",
    "        data.append(row)"
   ]
  },
  {
   "cell_type": "code",
   "execution_count": 164,
   "metadata": {},
   "outputs": [],
   "source": [
    "df = pd.DataFrame(data, columns=columns)"
   ]
  },
  {
   "cell_type": "code",
   "execution_count": 165,
   "metadata": {},
   "outputs": [
    {
     "data": {
      "text/html": [
       "<div>\n",
       "<style scoped>\n",
       "    .dataframe tbody tr th:only-of-type {\n",
       "        vertical-align: middle;\n",
       "    }\n",
       "\n",
       "    .dataframe tbody tr th {\n",
       "        vertical-align: top;\n",
       "    }\n",
       "\n",
       "    .dataframe thead th {\n",
       "        text-align: right;\n",
       "    }\n",
       "</style>\n",
       "<table border=\"1\" class=\"dataframe\">\n",
       "  <thead>\n",
       "    <tr style=\"text-align: right;\">\n",
       "      <th></th>\n",
       "      <th>Email</th>\n",
       "      <th>First Name</th>\n",
       "      <th>Last Name</th>\n",
       "      <th>Age</th>\n",
       "      <th>Gender</th>\n",
       "      <th>Comments</th>\n",
       "    </tr>\n",
       "  </thead>\n",
       "  <tbody>\n",
       "    <tr>\n",
       "      <th>0</th>\n",
       "      <td>tom@web.com</td>\n",
       "      <td>Tom</td>\n",
       "      <td>Fake</td>\n",
       "      <td>39</td>\n",
       "      <td>M</td>\n",
       "      <td>This is comment 0 by Tom Fake</td>\n",
       "    </tr>\n",
       "    <tr>\n",
       "      <th>1</th>\n",
       "      <td>tom@web.com</td>\n",
       "      <td>Tom</td>\n",
       "      <td>Fake</td>\n",
       "      <td>39</td>\n",
       "      <td>M</td>\n",
       "      <td>This is comment 1 by Tom Fake</td>\n",
       "    </tr>\n",
       "    <tr>\n",
       "      <th>2</th>\n",
       "      <td>tom@web.com</td>\n",
       "      <td>Tom</td>\n",
       "      <td>Fake</td>\n",
       "      <td>39</td>\n",
       "      <td>M</td>\n",
       "      <td>This is comment 2 by Tom Fake</td>\n",
       "    </tr>\n",
       "    <tr>\n",
       "      <th>3</th>\n",
       "      <td>tom@web.com</td>\n",
       "      <td>Tom</td>\n",
       "      <td>Fake</td>\n",
       "      <td>39</td>\n",
       "      <td>M</td>\n",
       "      <td>This is comment 3 by Tom Fake</td>\n",
       "    </tr>\n",
       "    <tr>\n",
       "      <th>4</th>\n",
       "      <td>tom@web.com</td>\n",
       "      <td>Tom</td>\n",
       "      <td>Fake</td>\n",
       "      <td>39</td>\n",
       "      <td>M</td>\n",
       "      <td>This is comment 4 by Tom Fake</td>\n",
       "    </tr>\n",
       "  </tbody>\n",
       "</table>\n",
       "</div>"
      ],
      "text/plain": [
       "         Email First Name Last Name  Age Gender                       Comments\n",
       "0  tom@web.com        Tom      Fake   39      M  This is comment 0 by Tom Fake\n",
       "1  tom@web.com        Tom      Fake   39      M  This is comment 1 by Tom Fake\n",
       "2  tom@web.com        Tom      Fake   39      M  This is comment 2 by Tom Fake\n",
       "3  tom@web.com        Tom      Fake   39      M  This is comment 3 by Tom Fake\n",
       "4  tom@web.com        Tom      Fake   39      M  This is comment 4 by Tom Fake"
      ]
     },
     "execution_count": 165,
     "metadata": {},
     "output_type": "execute_result"
    }
   ],
   "source": [
    "df.head()"
   ]
  }
 ],
 "metadata": {
  "kernelspec": {
   "display_name": "Python 3",
   "language": "python",
   "name": "python3"
  },
  "language_info": {
   "codemirror_mode": {
    "name": "ipython",
    "version": 3
   },
   "file_extension": ".py",
   "mimetype": "text/x-python",
   "name": "python",
   "nbconvert_exporter": "python",
   "pygments_lexer": "ipython3",
   "version": "3.6.6"
  }
 },
 "nbformat": 4,
 "nbformat_minor": 2
}
